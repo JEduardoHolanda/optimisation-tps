{
 "cells": [
  {
   "cell_type": "code",
   "execution_count": 3,
   "id": "fe86c1ab",
   "metadata": {},
   "outputs": [],
   "source": [
    "import tensorflow as tf\n",
    "import numpy as np\n",
    "import matplotlib.pyplot as plt\n",
    "import pandas as pd\n",
    "import torch "
   ]
  },
  {
   "cell_type": "markdown",
   "id": "2ca8bc13",
   "metadata": {},
   "source": [
    "## Méthode de Gradient"
   ]
  },
  {
   "cell_type": "code",
   "execution_count": 4,
   "id": "2bec159b",
   "metadata": {},
   "outputs": [],
   "source": [
    "def critere_1(f,e,x0,inter):\n",
    "    x = tf.Variable(x0)\n",
    "    \n",
    "    norm = tf.norm(f(x))\n",
    "    \n",
    "    for k in range(inter):\n",
    "        if norm < e:\n",
    "            print(norm)\n",
    "            return x, f(x)\n",
    " "
   ]
  },
  {
   "cell_type": "code",
   "execution_count": 262,
   "id": "39ad878e",
   "metadata": {},
   "outputs": [],
   "source": [
    "def critere_2(f,e,x0,p,N):\n",
    "    x = tf.Variable(x0)\n",
    "    for k in range(inter):\n",
    "        with tf.GradientTape(persistent=True) as tape:\n",
    "            my_function = f(x,p)\n",
    "        gradient = tape.gradient(my_function,x)\n",
    "        del tape\n",
    "        #gradient = tf.transpose(gradient)\n",
    "        rx = tf.reduce_sum(gradient * x) / my_function\n",
    "        if rx <= e:\n",
    "            return x\n",
    "\n",
    "    "
   ]
  },
  {
   "cell_type": "code",
   "execution_count": 263,
   "id": "2b9fe5a9",
   "metadata": {},
   "outputs": [],
   "source": [
    "#def critere_3(f,e,x0,inter):\n",
    "    "
   ]
  },
  {
   "cell_type": "code",
   "execution_count": 466,
   "id": "58661c6b",
   "metadata": {},
   "outputs": [],
   "source": [
    "def gradient_method(f,x0,p,N,e):\n",
    "    \n",
    "    alpha = 0.18\n",
    "    \n",
    "    Dk = np.eye(np.size(x0))\n",
    "    Dk = tf.convert_to_tensor(Dk, dtype=tf.float64)\n",
    "    \n",
    "    x = tf.Variable(tf.convert_to_tensor(x0, dtype=tf.float64), dtype=tf.float64)\n",
    "    x = tf.reshape(x,shape=(2,1))\n",
    "    i = 0\n",
    "    for k in range(N):\n",
    "        i +=1\n",
    "        with tf.GradientTape(persistent=True) as tape:\n",
    "            tape.watch(x)\n",
    "            my_function = f(x,p)\n",
    "        gradient = tape.gradient(my_function,x)\n",
    "        \n",
    "        gradient = tf.reshape(gradient, shape=(-1,1))\n",
    "        \n",
    "        x = x - alpha*(tf.linalg.matmul(Dk,gradient))\n",
    "        critere_2(f,e,x,p,N)\n",
    "        \n",
    "    return x, i\n",
    "    "
   ]
  },
  {
   "cell_type": "code",
   "execution_count": 467,
   "id": "053d5c32",
   "metadata": {},
   "outputs": [],
   "source": [
    "def f(x,p):\n",
    "    return (1-x[0])**2 + p*(x[1]-x[0]**2)**2\n"
   ]
  },
  {
   "cell_type": "code",
   "execution_count": 481,
   "id": "505caf1a",
   "metadata": {},
   "outputs": [
    {
     "data": {
      "text/plain": [
       "(<tf.Tensor: shape=(2, 1), dtype=float64, numpy=\n",
       " array([[0.9911225 ],\n",
       "        [0.97961258]])>,\n",
       " 50)"
      ]
     },
     "execution_count": 481,
     "metadata": {},
     "output_type": "execute_result"
    }
   ],
   "source": [
    "gradient_method(f,x0 = [0, 1.0],p=1, N = 50, e = 10^-3)\n"
   ]
  },
  {
   "cell_type": "markdown",
   "id": "2e73d44c",
   "metadata": {},
   "source": [
    "## Méthode de Newton"
   ]
  },
  {
   "cell_type": "code",
   "execution_count": 245,
   "id": "8e8451b8",
   "metadata": {},
   "outputs": [],
   "source": [
    "\n",
    "# def newton_method(f,x0,N,e):\n",
    "#     alpha = 1\n",
    "    \n",
    "#     x = tf.Variable(tf.convert_to_tensor(x0, dtype=tf.float64), dtype=tf.float64)\n",
    "#     x = tf.reshape(x,shape=(2,1))\n",
    "#     for i in range(N):\n",
    "#         y = f(x)\n",
    "#         with tf.GradientTape() as t2:\n",
    "#             with tf.GradientTape() as t1:  \n",
    "#                 dy_dx = t1.gradient(y, x)\n",
    "#             print(dy_dx)\n",
    "#             d2y_dx2 = t2.gradient(dy_dx, x)\n",
    "        \n",
    "#     return xk, f(xk)\n",
    "\n",
    "\n",
    "\n"
   ]
  },
  {
   "cell_type": "code",
   "execution_count": 446,
   "id": "d43c33b6",
   "metadata": {},
   "outputs": [],
   "source": [
    "def newton_method(f,x0,p,N,e):\n",
    "    alpha = 1\n",
    "    x = torch.tensor(x0, requires_grad=True, dtype=torch.float64)\n",
    "    k = 0\n",
    "    for k in range(N):\n",
    "        k += 1\n",
    "        y = f(x,p)\n",
    "\n",
    "        grads = torch.autograd.grad(y, x, create_graph=True)\n",
    "        \n",
    "        H = torch.zeros((np.size(x0), np.size(x0)), dtype=torch.float64)\n",
    "    \n",
    "        for i in range(np.size(x0)):\n",
    "            for j in range(np.size(x0)):\n",
    "                H[i, j] = torch.autograd.grad(grads[0][i], x, retain_graph=True)[0][j]\n",
    "                \n",
    "        H_inv = torch.inverse(H)\n",
    "        aux = x\n",
    "        x = x - alpha * torch.matmul(H_inv, grads[0])\n",
    "        result = torch.norm(x - aux,2).clone().detach()\n",
    "        if result < e:\n",
    "            return x.detach().numpy(),k\n",
    "        \n",
    "    return x.detach().numpy(),k"
   ]
  },
  {
   "cell_type": "code",
   "execution_count": 450,
   "id": "3abd0891",
   "metadata": {
    "scrolled": true
   },
   "outputs": [
    {
     "data": {
      "text/plain": [
       "(array([1., 1.]), 8)"
      ]
     },
     "execution_count": 450,
     "metadata": {},
     "output_type": "execute_result"
    }
   ],
   "source": [
    "newton_method(f,x0 = [0, 1.0], p = 1, N = 100, e = 10**-3)\n"
   ]
  },
  {
   "cell_type": "markdown",
   "id": "2c37aa1d",
   "metadata": {},
   "source": [
    "## Méthode cyclique des coordonnées"
   ]
  },
  {
   "cell_type": "code",
   "execution_count": 338,
   "id": "bf6cd0b8",
   "metadata": {},
   "outputs": [],
   "source": [
    "def newton_cyclique(X,p,vector, e, N, f):\n",
    "    alpha = 0.1\n",
    "\n",
    "    def derive1():\n",
    "        return (f((X - (alpha + 0.0001) * vector) , p) - f((X - alpha * vector), p)) / 0.0001\n",
    "    def derive2():\n",
    "        return (f((X - (alpha + 0.0001) * vector) , p) + f((X - (alpha - 0.0001) * vector) , p) -2*f((X - alpha * vector), p)) / np.power(0.0001, 2)\n",
    "    \n",
    "    for k in range(N):\n",
    "        dy_dx = derive1()\n",
    "        d2y_dx2 = derive2()\n",
    "        alphak = alpha - dy_dx / d2y_dx2\n",
    "\n",
    "    \n",
    "        if np.abs((alphak - alpha) / np.abs(alphak)) < e:\n",
    "            return alphak\n",
    "\n",
    "        alpha = alphak\n",
    "\n",
    "    return alphak"
   ]
  },
  {
   "cell_type": "code",
   "execution_count": 475,
   "id": "f92dbd73",
   "metadata": {},
   "outputs": [
    {
     "data": {
      "text/plain": [
       "(array([1.00376207, 1.00928709]), 21)"
      ]
     },
     "execution_count": 475,
     "metadata": {},
     "output_type": "execute_result"
    }
   ],
   "source": [
    "def methode_cyclique(f,x0,p,e, N):\n",
    "    i = 0\n",
    "    n = 2\n",
    "    e_canonique = [np.array([1, 0]), np.array([0, 1])]\n",
    "    y = np.array(x0)\n",
    "    j = 0\n",
    "\n",
    "    for i in range(N):\n",
    "        i += 1\n",
    "        alpha = newton_cyclique(y,p, e_canonique[j], e, 20, f)\n",
    "        yk = y - alpha * e_canonique[j]\n",
    "\n",
    "        if (j == n-1):\n",
    "            j = 0\n",
    "        elif (j < n-1):\n",
    "            j += 1\n",
    "\n",
    "        if np.absolute(np.linalg.norm(yk - y)) < e:\n",
    "            return yk, i\n",
    "\n",
    "        y = yk\n",
    "\n",
    "    return yk, i\n",
    "\n",
    "methode_cyclique(f, x0 = [0, 1], p = 1, e = 1e-3, N = 50)"
   ]
  },
  {
   "cell_type": "code",
   "execution_count": 455,
   "id": "d79f2641",
   "metadata": {},
   "outputs": [
    {
     "name": "stdout",
     "output_type": "stream",
     "text": [
      "1\n",
      "20\n",
      "40\n",
      "60\n",
      "80\n",
      "100\n",
      "CPU times: total: 35.1 s\n",
      "Wall time: 35.2 s\n"
     ]
    }
   ],
   "source": [
    "%%time\n",
    "p_values = [1, 20, 40, 60, 80, 100]\n",
    "cyclique = []\n",
    "newton = []\n",
    "gradient = []\n",
    "for p0 in p_values:\n",
    "    print(p0)\n",
    "    _,x1 = newton_method(f,x0 = [0, 1.0], p = p0, N = 50, e = 10^-3)\n",
    "    _,x2 = methode_cyclique(f, x0 = [0, 1], p = p0, e = 1e-3, N = 50)\n",
    "    _,x3 = gradient_method(f,x0 = [0, 1.0], p = p0, N = 50, e = 10^-3)\n",
    "    \n",
    "    gradient.append(x3)\n",
    "    cyclique.append(x2)\n",
    "    newton.append(x1)\n",
    "    "
   ]
  },
  {
   "cell_type": "code",
   "execution_count": 456,
   "id": "73af8e0c",
   "metadata": {},
   "outputs": [
    {
     "name": "stdout",
     "output_type": "stream",
     "text": [
      "[21, 50, 50, 50, 50, 50]\n",
      "[50, 50, 50, 50, 50, 50]\n",
      "[50, 50, 50, 50, 50, 50]\n"
     ]
    }
   ],
   "source": [
    "print(cyclique)\n",
    "print(newton)\n",
    "print(gradient)"
   ]
  },
  {
   "cell_type": "markdown",
   "id": "be0c6169",
   "metadata": {},
   "source": []
  }
 ],
 "metadata": {
  "kernelspec": {
   "display_name": "Python 3 (ipykernel)",
   "language": "python",
   "name": "python3"
  },
  "language_info": {
   "codemirror_mode": {
    "name": "ipython",
    "version": 3
   },
   "file_extension": ".py",
   "mimetype": "text/x-python",
   "name": "python",
   "nbconvert_exporter": "python",
   "pygments_lexer": "ipython3",
   "version": "3.10.11"
  }
 },
 "nbformat": 4,
 "nbformat_minor": 5
}
