{
 "cells": [
  {
   "cell_type": "markdown",
   "id": "b665965b",
   "metadata": {},
   "source": [
    "TP 1 - Optimisation\n",
    "=================================\n",
    "**Author** : José Eduardo CARVALHO DE HOLANDA"
   ]
  },
  {
   "cell_type": "code",
   "execution_count": 3,
   "id": "e5f307fd",
   "metadata": {},
   "outputs": [],
   "source": [
    "import numpy as np\n",
    "import matplotlib.pyplot as plt\n",
    "import tensorflow as tf"
   ]
  },
  {
   "cell_type": "markdown",
   "id": "cac566b3",
   "metadata": {},
   "source": [
    "## Méthode de la bissection"
   ]
  },
  {
   "cell_type": "markdown",
   "id": "62486f38",
   "metadata": {},
   "source": [
    "### 1. Programmer la méthode de la bissection\n"
   ]
  },
  {
   "cell_type": "code",
   "execution_count": 1,
   "id": "22ffb818",
   "metadata": {},
   "outputs": [],
   "source": [
    "def bissection(f, interval, e, ints):\n",
    "    [a1, b1] = interval\n",
    "    N = (np.log(e/(b1 - a1))/np.log(2))\n",
    "    ak = a1\n",
    "    bk = b1\n",
    "    erreur = []\n",
    "    \n",
    "    for k in range(ints):\n",
    "        xk = (ak + bk)/2\n",
    "        \n",
    "        x = tf.constant(xk)\n",
    "        with tf.GradientTape() as tape:\n",
    "            tape.watch(x)\n",
    "            y = f(x)\n",
    "\n",
    "        df_dx = tape.gradient(y, x)\n",
    "        if df_dx == 0:\n",
    "            return xk,f(xk),erreur\n",
    "        \n",
    "        if df_dx > 0:\n",
    "            bk = xk\n",
    "            eu = abs(xk - (ak))\n",
    "            erreur.append(eu)\n",
    "            \n",
    "        #if eu < e:\n",
    "            #return xk, f(xk), erreur\n",
    "        \n",
    "        else:\n",
    "            ak = xk\n",
    "            eu = abs(xk - (bk))\n",
    "            erreur.append(eu)\n",
    "            \n",
    "    return xk, f(xk),erreur            "
   ]
  },
  {
   "cell_type": "markdown",
   "id": "9509c8ba",
   "metadata": {},
   "source": [
    "### 2. Calculer le minimum de la fonction f(x) dans l'intervalle [-3,6] avec une précision de 10^-3"
   ]
  },
  {
   "cell_type": "code",
   "execution_count": 4,
   "id": "8cd04cac",
   "metadata": {},
   "outputs": [
    {
     "name": "stdout",
     "output_type": "stream",
     "text": [
      "[-0.9999990463256836, -0.9999999999990905]\n"
     ]
    }
   ],
   "source": [
    "def f(x):\n",
    "    return x**2 + 2*x\n",
    "\n",
    "interval = [-3,6]\n",
    "e = 10**(-3)\n",
    "interactions = 20\n",
    "\n",
    "[xk, fxk, erreur] = bissection(f,interval,e,interactions)\n",
    "\n",
    "print([xk,fxk])\n",
    "\n"
   ]
  },
  {
   "cell_type": "markdown",
   "id": "f0c4cd48",
   "metadata": {},
   "source": [
    "### 3. Répresente sur un graphique de l'évolution de l'erreur par rapport aux itérations"
   ]
  },
  {
   "cell_type": "code",
   "execution_count": 5,
   "id": "caaa94c1",
   "metadata": {},
   "outputs": [
    {
     "data": {
      "image/png": "[encoded data removed]",
      "text/plain": [
       "<Figure size 640x480 with 1 Axes>"
      ]
     },
     "metadata": {},
     "output_type": "display_data"
    }
   ],
   "source": [
    "t = np.arange(0, 20, 1)\n",
    "\n",
    "fig, ax = plt.subplots()\n",
    "ax.plot(t, erreur)\n",
    "\n",
    "ax.set(xlabel='Iterations', ylabel='Erreur',\n",
    "       title='Erreur x Iterations')\n",
    "ax.grid()\n",
    "\n",
    "#fig.savefig(\"test.png\")\n",
    "plt.show()"
   ]
  },
  {
   "cell_type": "markdown",
   "id": "00184b1d",
   "metadata": {},
   "source": [
    "### 4. Mêmes questions avec la méthode de la section dorée"
   ]
  },
  {
   "cell_type": "markdown",
   "id": "d9f5036e",
   "metadata": {},
   "source": [
    " #### Méthode de la section dorée"
   ]
  },
  {
   "cell_type": "code",
   "execution_count": 6,
   "id": "1e4c9478",
   "metadata": {},
   "outputs": [],
   "source": [
    "def section_doree(f, interval_init, e, k):\n",
    "    [a1, b1] = interval_init\n",
    "    alpha = 0.618\n",
    "    lambda1 = a1 + (1-alpha)*(b1 - a1)\n",
    "    mi1 = a1 + alpha*(b1 - a1)\n",
    "    \n",
    "    ak = a1\n",
    "    bk = b1\n",
    "    mik = mi1\n",
    "    lambdak = lambda1\n",
    "    erreur = []\n",
    "    \n",
    "    for i in range(k):\n",
    "        if (bk - ak) < e:\n",
    "            return lambdak, mik, erreur\n",
    "\n",
    "        if f(lambdak) > f(mik):\n",
    "            ak = lambdak\n",
    "            lambdak = mik\n",
    "            mik = ak + alpha*(bk - ak)\n",
    "            eu = abs(mik - (bk))\n",
    "            erreur.append(eu)\n",
    "        else:\n",
    "            bk = mik\n",
    "            mik = lambdak\n",
    "            lambdak = ak + (1-alpha)*(bk - ak)\n",
    "            eu = abs(lambdak - (ak))\n",
    "            erreur.append(eu)\n",
    "    \n",
    "    return lambdak, mik, erreur"
   ]
  },
  {
   "cell_type": "code",
   "execution_count": 7,
   "id": "297df23d",
   "metadata": {},
   "outputs": [
    {
     "name": "stdout",
     "output_type": "stream",
     "text": [
      "[-1.000417720723541, -1.0001476967261012]\n"
     ]
    }
   ],
   "source": [
    "interval = [-3,6]\n",
    "e = 10**(-3)\n",
    "interactions = 20\n",
    "\n",
    "[lambdak,mik,erreur] = section_doree(f,interval,e,interactions)\n",
    "print([lambdak,mik])"
   ]
  },
  {
   "cell_type": "code",
   "execution_count": 8,
   "id": "0a73082d",
   "metadata": {},
   "outputs": [
    {
     "data": {
      "image/png": "[encoded data removed]",
      "text/plain": [
       "<Figure size 640x480 with 1 Axes>"
      ]
     },
     "metadata": {},
     "output_type": "display_data"
    }
   ],
   "source": [
    "t = np.arange(0, np.size(erreur), 1)\n",
    "\n",
    "fig, ax = plt.subplots()\n",
    "ax.plot(t, erreur)\n",
    "\n",
    "ax.set(xlabel='Iterations', ylabel='Erreur',\n",
    "       title='Erreur x Iterations')\n",
    "ax.grid()\n",
    "\n",
    "#fig.savefig(\"test.png\")\n",
    "plt.show()"
   ]
  },
  {
   "cell_type": "markdown",
   "id": "807f1679",
   "metadata": {},
   "source": [
    "## Méthode de Newton"
   ]
  },
  {
   "cell_type": "markdown",
   "id": "6476aa56",
   "metadata": {},
   "source": [
    "### 1. Programmer la méthode de Newton"
   ]
  },
  {
   "cell_type": "code",
   "execution_count": 10,
   "id": "aaca3add",
   "metadata": {},
   "outputs": [],
   "source": [
    "def newton(f,e,vector,N,x0):\n",
    "    x = tf.constant(x0)\n",
    "    for k in range(N):\n",
    "        \n",
    "        with tf.GradientTape(persistent=True) as tape1:\n",
    "            tape1.watch(x)\n",
    "            y = f(x)\n",
    "\n",
    "        dy_dx = tape1.gradient(y,x)\n",
    "        with tf.GradientTape(persistent=True) as tape2:\n",
    "            tape2.watch(x)\n",
    "            dy_dx = tape1.gradient(y,x)\n",
    "        \n",
    "        d2y_dx2 = tape2.gradient(dy_dx,x)\n",
    "        \n",
    "            \n",
    "        xk = x - dy_dx/d2y_dx2\n",
    "        if np.abs((xk - x)/(xk)) < e:\n",
    "            return xk, f(xk)\n",
    "        x = xk\n",
    "        \n",
    "    return xk,f(xk)\n",
    "        \n",
    "\n",
    "    \n",
    "    "
   ]
  },
  {
   "cell_type": "markdown",
   "id": "73f1e4bb",
   "metadata": {},
   "source": [
    "### 2. Déterminer le minimum de la fonction en partant de x = 0.4, puis de x = 0.6 et -0.7. Qu'observer-vous ?"
   ]
  },
  {
   "cell_type": "code",
   "execution_count": 11,
   "id": "48e9cd2b",
   "metadata": {},
   "outputs": [],
   "source": [
    "def f2(x):\n",
    "    if x>0:\n",
    "        return 4*x**3 - 3*x**4\n",
    "    else:\n",
    "        return 4*x**3 + 3*x**4\n",
    "        \n",
    "e = 10**(-3)\n",
    "N = 20\n",
    "\n"
   ]
  },
  {
   "cell_type": "code",
   "execution_count": 12,
   "id": "b972c053",
   "metadata": {},
   "outputs": [
    {
     "data": {
      "text/plain": [
       "(<tf.Tensor: shape=(), dtype=float32, numpy=1.7092614e-07>,\n",
       " <tf.Tensor: shape=(), dtype=float32, numpy=1.9974937e-20>)"
      ]
     },
     "execution_count": 12,
     "metadata": {},
     "output_type": "execute_result"
    }
   ],
   "source": [
    "x0 = 0.4\n",
    "newton(f2,e,N,x0)"
   ]
  },
  {
   "cell_type": "code",
   "execution_count": 13,
   "id": "730abf80",
   "metadata": {},
   "outputs": [
    {
     "data": {
      "text/plain": [
       "(<tf.Tensor: shape=(), dtype=float32, numpy=0.99999994>,\n",
       " <tf.Tensor: shape=(), dtype=float32, numpy=1.0>)"
      ]
     },
     "execution_count": 13,
     "metadata": {},
     "output_type": "execute_result"
    }
   ],
   "source": [
    "x0 = 0.6\n",
    "newton(f2,e,N,x0)"
   ]
  },
  {
   "cell_type": "code",
   "execution_count": 14,
   "id": "c5dda3dc",
   "metadata": {},
   "outputs": [
    {
     "data": {
      "text/plain": [
       "(<tf.Tensor: shape=(), dtype=float32, numpy=-1.0>,\n",
       " <tf.Tensor: shape=(), dtype=float32, numpy=-1.0>)"
      ]
     },
     "execution_count": 14,
     "metadata": {},
     "output_type": "execute_result"
    }
   ],
   "source": [
    "x0 = -0.7\n",
    "newton(f2,e,N,x0)"
   ]
  },
  {
   "cell_type": "code",
   "execution_count": 15,
   "id": "bbeb42d9",
   "metadata": {},
   "outputs": [
    {
     "data": {
      "image/png": "[encoded data removed]",
      "text/plain": [
       "<Figure size 640x480 with 1 Axes>"
      ]
     },
     "metadata": {},
     "output_type": "display_data"
    }
   ],
   "source": [
    "t = np.arange(-1.5,1.5,0.1)\n",
    "y = [f2(ti) for ti in t]\n",
    "\n",
    "t_points = [-1, 0, 1]\n",
    "y_points = [f2(ti) for ti in t_points]\n",
    "\n",
    "# Crie marcadores nos pontos especificados\n",
    "plt.scatter(t_points, t_points, color='red', label='Points trouvées')\n",
    "\n",
    "# Crie o gráfico\n",
    "plt.plot(t, y, label='f2(x)')\n",
    "plt.xlabel('Interations')\n",
    "plt.ylabel('Fonction')\n",
    "plt.title('Fonction f2(x)')\n",
    "plt.legend()\n",
    "plt.grid(True)\n",
    "\n",
    "# Exiba o gráfico\n",
    "plt.show()"
   ]
  },
  {
   "cell_type": "markdown",
   "id": "c1eca49b",
   "metadata": {},
   "source": [
    "Le méthode de Newton a trouvé le plus proche point d'inflexion en accord avec le x0. Par exemple:\n",
    "\n",
    "- $x0 = -0.7 \\rightarrow x_{trouvée} = -1$ \n",
    "- $x0 = 0.4 \\rightarrow x_{trouvée} = 0$\n",
    "- $x0 = 0.6 \\rightarrow x_{trouvée} = 1$ \n",
    "- $x0 = 0.7 \\rightarrow x_{trouvée} = 1$ \n",
    "\n",
    "Si on choisir une point parmi deux points d'inflexion, le méthode diverge.\n",
    "\n"
   ]
  },
  {
   "cell_type": "code",
   "execution_count": 16,
   "id": "5680d613",
   "metadata": {},
   "outputs": [
    {
     "data": {
      "text/plain": [
       "(<tf.Tensor: shape=(), dtype=float32, numpy=nan>,\n",
       " <tf.Tensor: shape=(), dtype=float32, numpy=nan>)"
      ]
     },
     "execution_count": 16,
     "metadata": {},
     "output_type": "execute_result"
    }
   ],
   "source": [
    "x0 = 0.5\n",
    "newton(f2,e,N,x0)"
   ]
  },
  {
   "cell_type": "markdown",
   "id": "1c12bf8b",
   "metadata": {},
   "source": [
    "### 3. Même questions avec la méthode de la sécante"
   ]
  },
  {
   "cell_type": "markdown",
   "id": "b7b88d12",
   "metadata": {},
   "source": [
    "## Méthode de la sécante"
   ]
  },
  {
   "cell_type": "code",
   "execution_count": 17,
   "id": "75f53dbc",
   "metadata": {},
   "outputs": [],
   "source": [
    "def secante(f,e,N,x0,xf):\n",
    "    x = tf.constant(x0)\n",
    "    xk = tf.constant(xf, dtype=tf.float32)\n",
    "    for k in range(N):\n",
    "        \n",
    "        with tf.GradientTape(persistent=True) as tape1:\n",
    "            tape1.watch(x)\n",
    "            y = f(x)\n",
    "        \n",
    "        dy_dx = tape1.gradient(y,x)\n",
    "        \n",
    "        del tape1\n",
    "        with tf.GradientTape(persistent=True) as tape2:\n",
    "            tape2.watch(xk)\n",
    "            y = f(xk)\n",
    "            \n",
    "        dy_dxk = tape2.gradient(y,xk)\n",
    "        del tape2\n",
    "        xk1 = xk - (dy_dxk)*(xk - x)/(dy_dxk - dy_dx)\n",
    "        \n",
    "        \n",
    "        if np.abs((xk1 - xk)/(xk1)) < e:\n",
    "            return xk1, f(xk1)\n",
    "        x = xk\n",
    "        xk = xk1\n",
    "        \n",
    "    return xk1,f(xk1)"
   ]
  },
  {
   "cell_type": "code",
   "execution_count": 18,
   "id": "cd5684d2",
   "metadata": {},
   "outputs": [
    {
     "data": {
      "text/plain": [
       "(<tf.Tensor: shape=(), dtype=float32, numpy=-4.7062164e-05>,\n",
       " <tf.Tensor: shape=(), dtype=float32, numpy=-4.169273e-13>)"
      ]
     },
     "execution_count": 18,
     "metadata": {},
     "output_type": "execute_result"
    }
   ],
   "source": [
    "x0 = 0.4\n",
    "xf = -0.3\n",
    "secante(f2,e,N,x0,xf)"
   ]
  },
  {
   "cell_type": "code",
   "execution_count": 19,
   "id": "cd1c06fa",
   "metadata": {},
   "outputs": [
    {
     "data": {
      "text/plain": [
       "(<tf.Tensor: shape=(), dtype=float32, numpy=0.9999917>,\n",
       " <tf.Tensor: shape=(), dtype=float32, numpy=1.0>)"
      ]
     },
     "execution_count": 19,
     "metadata": {},
     "output_type": "execute_result"
    }
   ],
   "source": [
    "x0 = 0.6\n",
    "xf = 1.1\n",
    "secante(f2,e,N,x0,xf)"
   ]
  },
  {
   "cell_type": "code",
   "execution_count": 20,
   "id": "bc0da9ac",
   "metadata": {},
   "outputs": [
    {
     "data": {
      "text/plain": [
       "(<tf.Tensor: shape=(), dtype=float32, numpy=0.9999994>,\n",
       " <tf.Tensor: shape=(), dtype=float32, numpy=1.0>)"
      ]
     },
     "execution_count": 20,
     "metadata": {},
     "output_type": "execute_result"
    }
   ],
   "source": [
    "x0 = 0.7\n",
    "xf = 1.1\n",
    "secante(f2,e,N,x0,xf)"
   ]
  },
  {
   "cell_type": "code",
   "execution_count": 21,
   "id": "bdd1191a",
   "metadata": {},
   "outputs": [
    {
     "data": {
      "text/plain": [
       "(<tf.Tensor: shape=(), dtype=float32, numpy=-0.9999994>,\n",
       " <tf.Tensor: shape=(), dtype=float32, numpy=-1.0>)"
      ]
     },
     "execution_count": 21,
     "metadata": {},
     "output_type": "execute_result"
    }
   ],
   "source": [
    "x0 = -0.7\n",
    "xf = -1.1\n",
    "secante(f2,e,N,x0,xf)"
   ]
  },
  {
   "cell_type": "code",
   "execution_count": 22,
   "id": "71692100",
   "metadata": {},
   "outputs": [
    {
     "data": {
      "image/png": "[encoded data removed]",
      "text/plain": [
       "<Figure size 640x480 with 1 Axes>"
      ]
     },
     "metadata": {},
     "output_type": "display_data"
    }
   ],
   "source": [
    "t = np.arange(-1.5,1.5,0.1)\n",
    "y = [f2(ti) for ti in t]\n",
    "\n",
    "t_points = [-1, 0, 1]\n",
    "y_points = [f2(ti) for ti in t_points]\n",
    "\n",
    "# Crie marcadores nos pontos especificados\n",
    "plt.scatter(t_points, t_points, color='red', label='Points trouvées')\n",
    "\n",
    "# Crie o gráfico\n",
    "plt.plot(t, y, label='f2(x)')\n",
    "plt.xlabel('Interations')\n",
    "plt.ylabel('Fonction')\n",
    "plt.title('Fonction f2(x)')\n",
    "plt.legend()\n",
    "plt.grid(True)\n",
    "\n",
    "# Exiba o gráfico\n",
    "plt.show()"
   ]
  },
  {
   "cell_type": "markdown",
   "id": "322905c1",
   "metadata": {},
   "source": [
    "Pour la méthode de la sécante, on doit choisir le xk en accord du point qu'on veut trouver. Par exemple, si on choisit $x0$ et $xf$ avec une grande différence parmi eux, on peut vérifier qu'il va trouver l'intermédiaire des deux ou diverger quand-même. "
   ]
  },
  {
   "cell_type": "code",
   "execution_count": 23,
   "id": "a0c6aed1",
   "metadata": {},
   "outputs": [
    {
     "data": {
      "text/plain": [
       "(<tf.Tensor: shape=(), dtype=float32, numpy=-6.835956e-06>,\n",
       " <tf.Tensor: shape=(), dtype=float32, numpy=-1.2777783e-15>)"
      ]
     },
     "execution_count": 23,
     "metadata": {},
     "output_type": "execute_result"
    }
   ],
   "source": [
    "x0 = -0.7\n",
    "xf = 1.2\n",
    "secante(f2,e,N,x0,xf)"
   ]
  },
  {
   "cell_type": "code",
   "execution_count": 24,
   "id": "cff22224",
   "metadata": {},
   "outputs": [
    {
     "data": {
      "text/plain": [
       "(<tf.Tensor: shape=(), dtype=float32, numpy=nan>,\n",
       " <tf.Tensor: shape=(), dtype=float32, numpy=nan>)"
      ]
     },
     "execution_count": 24,
     "metadata": {},
     "output_type": "execute_result"
    }
   ],
   "source": [
    "x0 = -1.1\n",
    "xf = 1.1\n",
    "secante(f2,e,N,x0,xf)"
   ]
  }
 ],
 "metadata": {
  "kernelspec": {
   "display_name": "Python 3 (ipykernel)",
   "language": "python",
   "name": "python3"
  },
  "language_info": {
   "codemirror_mode": {
    "name": "ipython",
    "version": 3
   },
   "file_extension": ".py",
   "mimetype": "text/x-python",
   "name": "python",
   "nbconvert_exporter": "python",
   "pygments_lexer": "ipython3",
   "version": "3.10.11"
  }
 },
 "nbformat": 4,
 "nbformat_minor": 5
}
